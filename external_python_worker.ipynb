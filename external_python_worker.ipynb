{
  "nbformat": 4,
  "nbformat_minor": 0,
  "metadata": {
    "colab": {
      "name": "External Python Client",
      "provenance": [],
      "toc_visible": true,
      "include_colab_link": true
    },
    "kernelspec": {
      "name": "python3",
      "display_name": "Python 3"
    },
    "pycharm": {
      "stem_cell": {
        "cell_type": "raw",
        "source": [],
        "metadata": {
          "collapsed": false
        }
      }
    }
  },
  "cells": [
    {
      "cell_type": "markdown",
      "metadata": {
        "id": "view-in-github",
        "colab_type": "text"
      },
      "source": [
        "<a href=\"https://colab.research.google.com/github/DigiBP/digibp-camunda-external-python-task/blob/master/external_python_worker.ipynb\" target=\"_parent\"><img src=\"https://colab.research.google.com/assets/colab-badge.svg\" alt=\"Open In Colab\"/></a>"
      ]
    },
    {
      "cell_type": "markdown",
      "metadata": {
        "id": "L5SFMg4qllIY",
        "colab_type": "text"
      },
      "source": [
        "# External Python Worker"
      ]
    },
    {
      "cell_type": "markdown",
      "metadata": {
        "id": "S0PBWYoUIv9T",
        "colab_type": "text"
      },
      "source": [
        "An external task client allows to set up remote service tasks for a workflow. This example shows the external task execution by a Python worker."
      ]
    },
    {
      "cell_type": "markdown",
      "metadata": {
        "id": "JrHvtIlhMOc5",
        "colab_type": "text"
      },
      "source": [
        "![alt text](https://raw.githubusercontent.com/DigiBP/digibp-camunda-external-python-task/master/modelling/pizza-menu-external-demo-decision.png)\n",
        "In this example, we are going to consume the REST API of the Camunda Workflow engine and make use of HTTP Long Polling. Specifically, the following REST endpoints are used:\n",
        "\n",
        "\n",
        "```\n",
        "POST /external-task/fetchAndLock\n",
        "{\n",
        "   \"workerId\":\"workerid\",\n",
        "   \"maxTasks\":1,\n",
        "   \"usePriority\":true,\n",
        "   \"asyncResponseTimeout\":29000,\n",
        "   \"topics\":[\n",
        "      {\n",
        "         \"topicName\":\"GetSurpriseMenu\",\n",
        "         \"lockDuration\":20000\n",
        "      }\n",
        "   ]\n",
        "}\n",
        "\n",
        "POST /external-task/{id}/complete\n",
        "{\n",
        "   \"workerId\":\"workerid\",\n",
        "   \"variables\":{\n",
        "      \"menu\":{\n",
        "         \"value\":\"pizza\"\n",
        "      }\n",
        "   }\n",
        "}\n",
        "```\n",
        "\n",
        "\n",
        "The use of the REST endpoint is encapsulated within the cam module of this GitHub repository.\n",
        "\n",
        "You can import the *cam* module from GitHub Repository with [httpimport](https://github.com/operatorequals/httpimport)."
      ]
    },
    {
      "cell_type": "code",
      "metadata": {
        "id": "HrXdI_XZhfzE",
        "colab_type": "code",
        "colab": {}
      },
      "source": [
        "import httpimport\n",
        "with httpimport.github_repo('DigiBP', 'digibp-camunda-external-python-task', 'cam'): import cam"
      ],
      "execution_count": 0,
      "outputs": []
    },
    {
      "cell_type": "markdown",
      "metadata": {
        "id": "DKXuAAD1lNBk",
        "colab_type": "text"
      },
      "source": [
        "## 0 Initialize Client Worker\n",
        "Initialize the client worker as follows:"
      ]
    },
    {
      "cell_type": "code",
      "metadata": {
        "id": "f-fa9RlQWyXP",
        "colab_type": "code",
        "colab": {}
      },
      "source": [
        "worker = cam.Client(\"https://digibp.herokuapp.com/rest\")"
      ],
      "execution_count": 0,
      "outputs": []
    },
    {
      "cell_type": "markdown",
      "metadata": {
        "id": "hTNV1a4IP3xC",
        "colab_type": "text"
      },
      "source": [
        "## 1 Procedural Variant\n",
        "\n",
        "### Subscription\n",
        "\n",
        "First, we subscribe tasks of the corresponding topic *GetSurpriseMenu* (with tenant ID *showcase* (optional)):"
      ]
    },
    {
      "cell_type": "code",
      "metadata": {
        "id": "gi9I4rZRQnxa",
        "colab_type": "code",
        "colab": {}
      },
      "source": [
        "response = worker.subscribe(\"GetSurpriseMenu\", None, \"showcase\")"
      ],
      "execution_count": 0,
      "outputs": []
    },
    {
      "cell_type": "markdown",
      "metadata": {
        "id": "-QcR7kDaStt7",
        "colab_type": "text"
      },
      "source": [
        "Then we need the current taskid for correlating it during completion:![alt text](https://)"
      ]
    },
    {
      "cell_type": "code",
      "metadata": {
        "id": "yRZvrLwASs6y",
        "colab_type": "code",
        "colab": {}
      },
      "source": [
        "taskid = str(response[0]['id'])"
      ],
      "execution_count": 0,
      "outputs": []
    },
    {
      "cell_type": "markdown",
      "metadata": {
        "id": "SyODfgRwS5LL",
        "colab_type": "text"
      },
      "source": [
        "We may be getting some workflow data/variables:"
      ]
    },
    {
      "cell_type": "code",
      "metadata": {
        "id": "p6AMlgC1SBi3",
        "colab_type": "code",
        "colab": {}
      },
      "source": [
        "# vegetarian_guests = body[0]['variables']['vegetarianGuests']['value']"
      ],
      "execution_count": 0,
      "outputs": []
    },
    {
      "cell_type": "markdown",
      "metadata": {
        "id": "5jYc0DoATCTt",
        "colab_type": "text"
      },
      "source": [
        "Then we can define a dictionary of workflow data/variables if required:"
      ]
    },
    {
      "cell_type": "code",
      "metadata": {
        "id": "fqz89E4LRTdJ",
        "colab_type": "code",
        "colab": {}
      },
      "source": [
        "variables = {\"menu\": \"pizza\"}"
      ],
      "execution_count": 0,
      "outputs": []
    },
    {
      "cell_type": "markdown",
      "metadata": {
        "id": "TUq1-UqfTRko",
        "colab_type": "text"
      },
      "source": [
        "And finally, we complete the task and transfer some workflow variables:"
      ]
    },
    {
      "cell_type": "code",
      "metadata": {
        "id": "V-OrEVBDTX2K",
        "colab_type": "code",
        "colab": {}
      },
      "source": [
        "worker.complete(taskid, **variables)"
      ],
      "execution_count": 0,
      "outputs": []
    },
    {
      "cell_type": "markdown",
      "metadata": {
        "id": "jN6CwafqsWWt",
        "colab_type": "text"
      },
      "source": [
        "## 2 Concurrent Variant"
      ]
    },
    {
      "cell_type": "markdown",
      "metadata": {
        "id": "e7WQV1CC6uxR",
        "colab_type": "text"
      },
      "source": [
        "Define a callback function:"
      ]
    },
    {
      "cell_type": "code",
      "metadata": {
        "id": "U7X1KtPFrJEC",
        "colab_type": "code",
        "colab": {}
      },
      "source": [
        "import random\n",
        "\n",
        "\n",
        "def get_surprise_menu_callback(self, taskid, response):\n",
        "    try:\n",
        "        vegetarian_guests = response[0]['variables']['vegetarianGuests']['value']\n",
        "    except:\n",
        "        vegetarian_guests = False\n",
        "\n",
        "    if vegetarian_guests:\n",
        "        menu = random.choice([\"pizza\", \"pasta\", \"verdura\"])\n",
        "    else:\n",
        "        menu = random.choice([\"pizza\", \"pasta\", \"carne\", \"verdura\"])\n",
        "\n",
        "    variables = {\"menu\": menu}\n",
        "    self.worker.complete(taskid, **variables)"
      ],
      "execution_count": 0,
      "outputs": []
    },
    {
      "cell_type": "markdown",
      "metadata": {
        "id": "VqHW68ncrxQU",
        "colab_type": "text"
      },
      "source": [
        "Subscribe the topic *GetSurpriseMenu* (with tenant ID *showcase* (optional)) and assign the callback function:"
      ]
    },
    {
      "cell_type": "code",
      "metadata": {
        "id": "mmp6cxeXW9nD",
        "colab_type": "code",
        "colab": {}
      },
      "source": [
        "worker.subscribe(\"GetSurpriseMenu\", get_surprise_menu_callback, \"showcase\")"
      ],
      "execution_count": 0,
      "outputs": []
    },
    {
      "cell_type": "markdown",
      "metadata": {
        "id": "6dYqtCC_sMWK",
        "colab_type": "text"
      },
      "source": [
        "Poll new tasks of the subscribed topics:"
      ]
    },
    {
      "cell_type": "code",
      "metadata": {
        "id": "PXekVid2XBf6",
        "colab_type": "code",
        "colab": {}
      },
      "source": [
        "worker.polling()"
      ],
      "execution_count": 0,
      "outputs": []
    }
  ]
}