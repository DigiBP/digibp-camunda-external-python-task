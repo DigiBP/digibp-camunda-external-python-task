{
  "cells": [
    {
      "cell_type": "markdown",
      "metadata": {
        "colab_type": "text",
        "id": "view-in-github"
      },
      "source": [
        "<a href=\"https://colab.research.google.com/github/DigiBP/digibp-camunda-external-python-task/blob/master/external_python_worker.ipynb\" target=\"_parent\"><img src=\"https://colab.research.google.com/assets/colab-badge.svg\" alt=\"Open In Colab\"/></a>"
      ]
    },
    {
      "cell_type": "markdown",
      "metadata": {
        "colab_type": "text",
        "id": "L5SFMg4qllIY"
      },
      "source": [
        "# External Python Worker"
      ]
    },
    {
      "cell_type": "markdown",
      "metadata": {
        "colab_type": "text",
        "id": "S0PBWYoUIv9T"
      },
      "source": [
        "An external task client allows to set up remote service tasks for a workflow. This example shows the external task execution by a Python worker."
      ]
    },
    {
      "cell_type": "markdown",
      "metadata": {
        "colab_type": "text",
        "id": "JrHvtIlhMOc5"
      },
      "source": [
        "![alt text](https://raw.githubusercontent.com/DigiBP/digibp-camunda-external-python-task/master/modelling/pizza-menu-external-demo-decision.png)\n",
        "In this example, we are going to consume the REST API of the Camunda Workflow engine and make use of HTTP Long Polling. Specifically, the following REST endpoints are used:\n",
        "\n",
        "\n",
        "```\n",
        "POST /external-task/fetchAndLock\n",
        "{\n",
        "   \"workerId\":\"workerid\",\n",
        "   \"maxTasks\":1,\n",
        "   \"usePriority\":true,\n",
        "   \"asyncResponseTimeout\":29000,\n",
        "   \"topics\":[\n",
        "      {\n",
        "         \"topicName\":\"GetSurpriseMenu\",\n",
        "         \"lockDuration\":20000\n",
        "      }\n",
        "   ]\n",
        "}\n",
        "\n",
        "POST /external-task/{id}/complete\n",
        "{\n",
        "   \"workerId\":\"workerid\",\n",
        "   \"variables\":{\n",
        "      \"menu\":{\n",
        "         \"value\":\"pizza\"\n",
        "      }\n",
        "   }\n",
        "}\n",
        "```\n",
        "\n",
        "\n",
        "The use of the REST endpoint is encapsulated within the cam module of this GitHub repository.\n",
        "\n",
        "You can import the *cam* module from GitHub Repository with [httpimport](https://github.com/operatorequals/httpimport)."
      ]
    },
    {
      "cell_type": "code",
      "execution_count": 1,
      "metadata": {
        "colab": {},
        "colab_type": "code",
        "id": "HrXdI_XZhfzE"
      },
      "outputs": [],
      "source": [
        "import httpimport\n",
        "with httpimport.github_repo('DigiBP', 'digibp-camunda-external-python-task', 'cam'): import cam"
      ]
    },
    {
      "cell_type": "markdown",
      "metadata": {
        "colab_type": "text",
        "id": "DKXuAAD1lNBk"
      },
      "source": [
        "## 0 Initialize Client Worker\n",
        "Initialize the client worker as follows:"
      ]
    },
    {
      "cell_type": "code",
      "execution_count": 2,
      "metadata": {
        "colab": {},
        "colab_type": "code",
        "id": "f-fa9RlQWyXP"
      },
      "outputs": [],
      "source": [
        "worker = cam.Client(\"https://digibp.herokuapp.com/engine-rest\")"
      ]
    },
    {
      "cell_type": "markdown",
      "metadata": {
        "colab_type": "text",
        "id": "hTNV1a4IP3xC"
      },
      "source": [
        "## 1 Procedural Variant\n",
        "\n",
        "### Subscription\n",
        "\n",
        "First, we subscribe tasks of the corresponding topic *GetSurpriseMenu* (with tenant ID *showcase* (optional)):"
      ]
    },
    {
      "cell_type": "code",
      "execution_count": null,
      "metadata": {
        "colab": {},
        "colab_type": "code",
        "id": "gi9I4rZRQnxa"
      },
      "outputs": [],
      "source": [
        "response = worker.subscribe(\"GetSurpriseMenu\", None, \"showcase\")"
      ]
    },
    {
      "cell_type": "markdown",
      "metadata": {
        "colab_type": "text",
        "id": "-QcR7kDaStt7"
      },
      "source": [
        "Then we need the current taskid for correlating it during completion:![alt text](https://)"
      ]
    },
    {
      "cell_type": "code",
      "execution_count": null,
      "metadata": {
        "colab": {},
        "colab_type": "code",
        "id": "yRZvrLwASs6y"
      },
      "outputs": [],
      "source": [
        "taskid = str(response[0]['id'])"
      ]
    },
    {
      "cell_type": "markdown",
      "metadata": {
        "colab_type": "text",
        "id": "SyODfgRwS5LL"
      },
      "source": [
        "We may be getting some workflow data/variables:"
      ]
    },
    {
      "cell_type": "code",
      "execution_count": null,
      "metadata": {
        "colab": {},
        "colab_type": "code",
        "id": "p6AMlgC1SBi3"
      },
      "outputs": [],
      "source": [
        "# vegetarian_guests = body[0]['variables']['vegetarian']['value']"
      ]
    },
    {
      "cell_type": "markdown",
      "metadata": {
        "colab_type": "text",
        "id": "5jYc0DoATCTt"
      },
      "source": [
        "Then we can define a dictionary of workflow data/variables if required:"
      ]
    },
    {
      "cell_type": "code",
      "execution_count": null,
      "metadata": {
        "colab": {},
        "colab_type": "code",
        "id": "fqz89E4LRTdJ"
      },
      "outputs": [],
      "source": [
        "variables = {\"menu\": \"pizza\"}"
      ]
    },
    {
      "cell_type": "markdown",
      "metadata": {
        "colab_type": "text",
        "id": "TUq1-UqfTRko"
      },
      "source": [
        "And finally, we complete the task and transfer some workflow variables:"
      ]
    },
    {
      "cell_type": "code",
      "execution_count": null,
      "metadata": {
        "colab": {},
        "colab_type": "code",
        "id": "V-OrEVBDTX2K"
      },
      "outputs": [],
      "source": [
        "worker.complete(taskid, **variables)"
      ]
    },
    {
      "cell_type": "markdown",
      "metadata": {
        "colab_type": "text",
        "id": "jN6CwafqsWWt"
      },
      "source": [
        "## 2 Concurrent Variant"
      ]
    },
    {
      "cell_type": "markdown",
      "metadata": {
        "colab_type": "text",
        "id": "e7WQV1CC6uxR"
      },
      "source": [
        "Define a callback function:"
      ]
    },
    {
      "cell_type": "code",
      "execution_count": 3,
      "metadata": {
        "colab": {},
        "colab_type": "code",
        "id": "U7X1KtPFrJEC"
      },
      "outputs": [],
      "source": [
        "import random\n",
        "\n",
        "\n",
        "def get_surprise_menu_callback(taskid, response):\n",
        "    try:\n",
        "        vegetarian_guests = response[0]['variables']['vegetarian']['value']\n",
        "    except:\n",
        "        vegetarian_guests = False\n",
        "\n",
        "    if vegetarian_guests:\n",
        "        menu = random.choice([\"pizza\", \"pasta\", \"verdura\"])\n",
        "    else:\n",
        "        menu = random.choice([\"pizza\", \"pasta\", \"carne\", \"verdura\"])\n",
        "\n",
        "    variables = {\"menu\": menu}\n",
        "    worker.complete(taskid, **variables)"
      ]
    },
    {
      "cell_type": "markdown",
      "metadata": {
        "colab_type": "text",
        "id": "VqHW68ncrxQU"
      },
      "source": [
        "Subscribe the topic *GetSurpriseMenu* (with tenant ID *showcase* (optional)) and assign the callback function:"
      ]
    },
    {
      "cell_type": "code",
      "execution_count": 8,
      "metadata": {
        "colab": {},
        "colab_type": "code",
        "id": "mmp6cxeXW9nD"
      },
      "outputs": [],
      "source": [
        "worker.subscribe(\"GetSurpriseMenu\", get_surprise_menu_callback, \"showcase\")"
      ]
    },
    {
      "cell_type": "markdown",
      "metadata": {
        "colab_type": "text",
        "id": "6dYqtCC_sMWK"
      },
      "source": [
        "Poll new tasks of the subscribed topics:"
      ]
    },
    {
      "cell_type": "code",
      "execution_count": 9,
      "metadata": {
        "colab": {},
        "colab_type": "code",
        "id": "PXekVid2XBf6"
      },
      "outputs": [
        {
          "name": "stdout",
          "output_type": "stream",
          "text": [
            "polling subscription: GetSurpriseMenu\n"
          ]
        }
      ],
      "source": [
        "worker.polling()"
      ]
    }
  ],
  "metadata": {
    "colab": {
      "include_colab_link": true,
      "name": "External Python Client",
      "provenance": [],
      "toc_visible": true
    },
    "interpreter": {
      "hash": "8b8334dab9339717f727a1deaf837b322d7a41c20d15cc86be99a8e69ceec8ce"
    },
    "kernelspec": {
      "display_name": "Python 3.8.12 64-bit ('3.8.12': pyenv)",
      "name": "python3"
    },
    "language_info": {
      "codemirror_mode": {
        "name": "ipython",
        "version": 3
      },
      "file_extension": ".py",
      "mimetype": "text/x-python",
      "name": "python",
      "nbconvert_exporter": "python",
      "pygments_lexer": "ipython3",
      "version": "3.8.12"
    },
    "pycharm": {
      "stem_cell": {
        "cell_type": "raw",
        "metadata": {
          "collapsed": false
        },
        "source": []
      }
    }
  },
  "nbformat": 4,
  "nbformat_minor": 0
}
