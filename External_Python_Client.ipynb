{
 "nbformat": 4,
 "nbformat_minor": 0,
 "metadata": {
  "colab": {
   "name": "External Python Client",
   "provenance": [],
   "toc_visible": true,
   "authorship_tag": "ABX9TyNmwfzlTlf8eUBjWWb9WlPV",
   "include_colab_link": true
  },
  "kernelspec": {
   "name": "python3",
   "display_name": "Python 3"
  },
  "pycharm": {
   "stem_cell": {
    "cell_type": "raw",
    "source": [],
    "metadata": {
     "collapsed": false
    }
   }
  }
 },
 "cells": [
  {
   "cell_type": "markdown",
   "metadata": {
    "id": "view-in-github",
    "colab_type": "text"
   },
   "source": [
    "<a href=\"https://colab.research.google.com/github/DigiBP/digibp-camunda-external-python-task/blob/master/External_Python_Client.ipynb\" target=\"_parent\"><img src=\"https://colab.research.google.com/assets/colab-badge.svg\" alt=\"Open In Colab\"/></a>"
   ]
  },
  {
   "cell_type": "markdown",
   "metadata": {
    "id": "L5SFMg4qllIY",
    "colab_type": "text"
   },
   "source": [
    "# Python Camunda Client"
   ]
  },
  {
   "cell_type": "markdown",
   "metadata": {
    "id": "r5YFX0aykSXE",
    "colab_type": "text"
   },
   "source": [
    "## Import Camunda Module\n",
    "Import cam module from GitHub Repository with [httpimport](https://github.com/operatorequals/httpimport).\n",
    "> Original 'cam' module by Nele Uhlemann (Camunda): https://github.com/tasso94/External-Task-Client"
   ]
  },
  {
   "cell_type": "code",
   "metadata": {
    "id": "HrXdI_XZhfzE",
    "colab_type": "code",
    "colab": {}
   },
   "source": [
    "import httpimport\n",
    "with httpimport.github_repo('DigiBP', 'digibp-camunda-external-python-task', 'cam'): import cam"
   ],
   "execution_count": 0,
   "outputs": []
  },
  {
   "cell_type": "markdown",
   "metadata": {
    "id": "DKXuAAD1lNBk",
    "colab_type": "text"
   },
   "source": [
    "## Client Worker\n",
    "Initialize the client worker as follows:"
   ]
  },
  {
   "cell_type": "code",
   "metadata": {
    "id": "f-fa9RlQWyXP",
    "colab_type": "code",
    "colab": {}
   },
   "source": [
    "worker = cam.Client(\"https://digibp.herokuapp.com/rest\")"
   ],
   "execution_count": 0,
   "outputs": []
  },
  {
   "cell_type": "markdown",
   "metadata": {
    "id": "jN6CwafqsWWt",
    "colab_type": "text"
   },
   "source": [
    "## Subscription"
   ]
  },
  {
   "cell_type": "markdown",
   "metadata": {
    "id": "e7WQV1CC6uxR",
    "colab_type": "text"
   },
   "source": [
    "Define a callback function:"
   ]
  },
  {
   "cell_type": "code",
   "metadata": {
    "id": "U7X1KtPFrJEC",
    "colab_type": "code",
    "colab": {}
   },
   "source": [
    "import random\n",
    "\n",
    "\n",
    "def get_surprise_menu_callback(body):\n",
    "    try:\n",
    "        vegetarian_guests = body[0]['variables']['vegetarianGuests']['value']\n",
    "    except:\n",
    "        vegetarian_guests = False\n",
    "\n",
    "    if vegetarian_guests:\n",
    "        menu = random.choice([\"pizza\", \"pasta\", \"verdura\"])\n",
    "    else:\n",
    "        menu = random.choice([\"pizza\", \"pasta\", \"carne\", \"verdura\"])\n",
    "\n",
    "    variables = {\"menu\": menu}\n",
    "    worker.complete(body, **variables)"
   ],
   "execution_count": 0,
   "outputs": []
  },
  {
   "cell_type": "markdown",
   "metadata": {
    "id": "VqHW68ncrxQU",
    "colab_type": "text"
   },
   "source": [
    "Subscribe the topic *GetSurpriseMenu* (with tenant ID *showcase* (optional)) and assign the callback function:"
   ]
  },
  {
   "cell_type": "code",
   "metadata": {
    "id": "mmp6cxeXW9nD",
    "colab_type": "code",
    "colab": {}
   },
   "source": [
    "worker.subscribe(\"GetSurpriseMenu\", get_surprise_menu_callback, \"showcase\")"
   ],
   "execution_count": 0,
   "outputs": []
  },
  {
   "cell_type": "markdown",
   "metadata": {
    "id": "C-PXCyCksjr9",
    "colab_type": "text"
   },
   "source": [
    "## Polling"
   ]
  },
  {
   "cell_type": "markdown",
   "metadata": {
    "id": "6dYqtCC_sMWK",
    "colab_type": "text"
   },
   "source": [
    "Poll new tasks of the subscribed topics:"
   ]
  },
  {
   "cell_type": "code",
   "metadata": {
    "id": "PXekVid2XBf6",
    "colab_type": "code",
    "colab": {}
   },
   "source": [
    "worker.polling()"
   ],
   "execution_count": 0,
   "outputs": []
  }
 ]
}